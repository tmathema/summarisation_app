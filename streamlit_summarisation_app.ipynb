{
  "cells": [
    {
      "cell_type": "markdown",
      "metadata": {
        "id": "view-in-github",
        "colab_type": "text"
      },
      "source": [
        "<a href=\"https://colab.research.google.com/github/tmathema/summarisation_app/blob/main/streamlit_summarisation_app.ipynb\" target=\"_parent\"><img src=\"https://colab.research.google.com/assets/colab-badge.svg\" alt=\"Open In Colab\"/></a>"
      ]
    },
    {
      "cell_type": "code",
      "execution_count": null,
      "metadata": {
        "id": "hyK-oB2rt7V2"
      },
      "outputs": [],
      "source": [
        "!pip install streamlit\n",
        "!pip install python-dotenv"
      ]
    },
    {
      "cell_type": "code",
      "source": [
        "%%writefile summeriser_app.py\n",
        "\n",
        "import streamlit as st\n",
        "import random\n",
        "import requests, json\n",
        "\n",
        "\n",
        "\n",
        "#hugging face helper function\n",
        "#Summarization endpoint\n",
        "model = 'sshleifer/distilbart-cnn-12-6'\n",
        "def get_completion(inputs, parameters=None,ENDPOINT_URL=f'https://api-inference.huggingface.co/models/{model}'):\n",
        "    headers = {\n",
        "      \"Authorization\": f\"Bearer {hf_api_key}\",\n",
        "      \"Content-Type\": \"application/json\"\n",
        "    }\n",
        "    data = { \"inputs\": inputs }\n",
        "    if parameters is not None:\n",
        "        data.update({\"parameters\": parameters})\n",
        "    response = requests.request(\"POST\",\n",
        "                                ENDPOINT_URL, headers=headers,\n",
        "                                data=json.dumps(data)\n",
        "                               )\n",
        "    return json.loads(response.content.decode(\"utf-8\"))\n",
        "\n",
        "#sumeriser helper function\n",
        "def summarize(input):\n",
        "  output = get_completion(input)\n",
        "  return output[0]['summary_text']\n",
        "\n",
        "\n",
        "st.title(\"Summarization with Huggingface DistilBART\")\n",
        "user_input = st.text_area(\"Enter text to summarize:\")\n",
        "\n",
        "# Add a button to initiate summarization\n",
        "if st.button(\"Summarize\"):\n",
        "  # Call the Huggingface model to generate a summary\n",
        "  summary = summarize(user_input)\n",
        "  hf_api_key = hf_api_key\n",
        "\n",
        "  # Display the summary\n",
        "  st.write(\"Summary:\")\n",
        "  st.write(summary)"
      ],
      "metadata": {
        "colab": {
          "base_uri": "https://localhost:8080/"
        },
        "id": "8zVOi6Y6e-M5",
        "outputId": "77196750-1065-4cc8-ff89-f4bb54bb02cb"
      },
      "execution_count": 27,
      "outputs": [
        {
          "output_type": "stream",
          "name": "stdout",
          "text": [
            "Overwriting summeriser_app.py\n"
          ]
        }
      ]
    },
    {
      "cell_type": "code",
      "source": [
        "#Install localtunnel\n",
        "!npm install localtunnel"
      ],
      "metadata": {
        "colab": {
          "base_uri": "https://localhost:8080/"
        },
        "id": "wlZlKhjuhUsj",
        "outputId": "9703a584-7ad2-41c4-a676-816087ceb02a"
      },
      "execution_count": 28,
      "outputs": [
        {
          "output_type": "stream",
          "name": "stdout",
          "text": [
            "\u001b[K\u001b[?25h\u001b[37;40mnpm\u001b[0m \u001b[0m\u001b[30;43mWARN\u001b[0m \u001b[0m\u001b[35msaveError\u001b[0m ENOENT: no such file or directory, open '/content/package.json'\n",
            "\u001b[0m\u001b[37;40mnpm\u001b[0m \u001b[0m\u001b[30;43mWARN\u001b[0m \u001b[0m\u001b[35menoent\u001b[0m ENOENT: no such file or directory, open '/content/package.json'\n",
            "\u001b[0m\u001b[37;40mnpm\u001b[0m \u001b[0m\u001b[30;43mWARN\u001b[0m\u001b[35m\u001b[0m content No description\n",
            "\u001b[0m\u001b[37;40mnpm\u001b[0m \u001b[0m\u001b[30;43mWARN\u001b[0m\u001b[35m\u001b[0m content No repository field.\n",
            "\u001b[0m\u001b[37;40mnpm\u001b[0m \u001b[0m\u001b[30;43mWARN\u001b[0m\u001b[35m\u001b[0m content No README data\n",
            "\u001b[0m\u001b[37;40mnpm\u001b[0m \u001b[0m\u001b[30;43mWARN\u001b[0m\u001b[35m\u001b[0m content No license field.\n",
            "\u001b[0m\n",
            "\u001b[K\u001b[?25h+ localtunnel@2.0.2\n",
            "updated 1 package and audited 36 packages in 0.558s\n",
            "\n",
            "3 packages are looking for funding\n",
            "  run `npm fund` for details\n",
            "\n",
            "found 2 \u001b[93mmoderate\u001b[0m severity vulnerabilities\n",
            "  run `npm audit fix` to fix them, or `npm audit` for details\n"
          ]
        }
      ]
    },
    {
      "cell_type": "code",
      "source": [
        "import urllib\n",
        "print(\"Password/Enpoint IP for localtunnel is:\",urllib.request.urlopen('https://ipv4.icanhazip.com').read().decode('utf8').strip(\"\\n\"))"
      ],
      "metadata": {
        "colab": {
          "base_uri": "https://localhost:8080/"
        },
        "id": "VIc4pUYihcrB",
        "outputId": "ac48c40c-2ae4-4b50-b855-6938019dba03"
      },
      "execution_count": 29,
      "outputs": [
        {
          "output_type": "stream",
          "name": "stdout",
          "text": [
            "Password/Enpoint IP for localtunnel is: 34.86.171.162\n"
          ]
        }
      ]
    },
    {
      "cell_type": "code",
      "source": [
        "#Run streamlit in background\n",
        "!streamlit run summeriser_app.py &>/content/logs.txt &"
      ],
      "metadata": {
        "id": "dtM9v4cHhfbN"
      },
      "execution_count": 30,
      "outputs": []
    },
    {
      "cell_type": "code",
      "source": [
        "#Expose the port 8501\n",
        "#\n",
        "!npx localtunnel --port 8501"
      ],
      "metadata": {
        "colab": {
          "base_uri": "https://localhost:8080/"
        },
        "id": "CW7kT5njhkT1",
        "outputId": "d3c54636-2c19-4144-ae28-7cf9fdabd7fb"
      },
      "execution_count": 31,
      "outputs": [
        {
          "output_type": "stream",
          "name": "stdout",
          "text": [
            "\u001b[K\u001b[?25hnpx: installed 22 in 1.829s\n",
            "your url is: https://smooth-jars-design.loca.lt\n",
            "^C\n"
          ]
        }
      ]
    }
  ],
  "metadata": {
    "colab": {
      "provenance": [],
      "mount_file_id": "1JnUKUC7PakhP1lTedfbXP-pGqRLXjXBs",
      "authorship_tag": "ABX9TyN9XVYvEhOEM2YuHbaQLlzL",
      "include_colab_link": true
    },
    "kernelspec": {
      "display_name": "Python 3",
      "name": "python3"
    },
    "language_info": {
      "name": "python"
    }
  },
  "nbformat": 4,
  "nbformat_minor": 0
}